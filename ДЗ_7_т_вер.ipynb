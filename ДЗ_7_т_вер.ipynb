{
 "cells": [
  {
   "cell_type": "code",
   "execution_count": 1,
   "id": "a5bf0b10",
   "metadata": {},
   "outputs": [],
   "source": [
    "import pandas as pd\n",
    "from scipy import stats\n",
    "import numpy as np"
   ]
  },
  {
   "cell_type": "markdown",
   "id": "1d791959",
   "metadata": {},
   "source": [
    "### Задача 1  \n",
    "Даны две независимые выборки. Не соблюдается условие нормальности  \n",
    "x1 380,420, 290  \n",
    "y1 140,360,200,900  \n",
    "Сделайте вывод по результатам, полученным с помощью функции   \n",
    "\n",
    "\n",
    "\n",
    "\n",
    "\n",
    "#### Применяем критерий Манна-Уитни"
   ]
  },
  {
   "cell_type": "code",
   "execution_count": 2,
   "id": "03a9dc5f",
   "metadata": {},
   "outputs": [
    {
     "data": {
      "text/plain": [
       "MannwhitneyuResult(statistic=8.0, pvalue=0.6285714285714286)"
      ]
     },
     "execution_count": 2,
     "metadata": {},
     "output_type": "execute_result"
    }
   ],
   "source": [
    "x1 = np.array([380,420, 290])  \n",
    "y1 = np.array([140,360,200,900])\n",
    "stats.mannwhitneyu(x1, y1)"
   ]
  },
  {
   "cell_type": "markdown",
   "id": "23b1f9a2",
   "metadata": {},
   "source": [
    "#### Вывод: смотря на результат p-value (0.6) а это больше чем альфа (5%), можем сделать вывод в пользу нулевой гипотезы. Различий нет."
   ]
  },
  {
   "cell_type": "markdown",
   "id": "b3406d05",
   "metadata": {},
   "source": [
    "### Задача 2\n",
    "Исследовалось влияние препарата на уровень давления пациентов. Сначала измерялось давление до приема препарата, потом через 10 минут и через 30 минут. Есть ли статистически значимые различия?\n",
    "\n",
    "1е измерение до приема препарата: 150, 160, 165, 145, 155  \n",
    "2е измерение через 10 минут: 140, 155, 150, 130, 135  \n",
    "3е измерение через 30 минут: 130, 130, 120, 130, 125\n",
    "\n",
    "\n",
    "#### Применяем критерий Фридмана"
   ]
  },
  {
   "cell_type": "code",
   "execution_count": 3,
   "id": "04e41624",
   "metadata": {},
   "outputs": [
    {
     "data": {
      "text/plain": [
       "FriedmanchisquareResult(statistic=9.578947368421062, pvalue=0.00831683351100441)"
      ]
     },
     "execution_count": 3,
     "metadata": {},
     "output_type": "execute_result"
    }
   ],
   "source": [
    "before_pill = np.array([150, 160, 165, 145, 155])\n",
    "after_pill_1 =np.array([140, 155, 150, 130, 135])\n",
    "after_pill_2 =np.array([130, 130, 120, 130, 125])\n",
    "stats.friedmanchisquare(before_pill, after_pill_1, after_pill_2 )"
   ]
  },
  {
   "cell_type": "markdown",
   "id": "4bf711e0",
   "metadata": {},
   "source": [
    "#### Вывод: смотря на результат p-value (0.008) а это меньше знчания  альфа (5%), можем сделать вывод в пользу альтернативной гипотезы. Различия есть."
   ]
  },
  {
   "cell_type": "markdown",
   "id": "262f9189",
   "metadata": {},
   "source": [
    "### Задача 3\n",
    "Сравните 1 и 2 е измерения, предполагая, что 3го измерения через 30 минут не было.\n",
    "\n",
    "\n",
    "#### Здесь применяем критерий Уилкоксона так как идет сравнение двух зависимых групп"
   ]
  },
  {
   "cell_type": "code",
   "execution_count": 8,
   "id": "16bbf539",
   "metadata": {},
   "outputs": [
    {
     "data": {
      "text/plain": [
       "array([10,  5, 15, 15, 20])"
      ]
     },
     "execution_count": 8,
     "metadata": {},
     "output_type": "execute_result"
    }
   ],
   "source": [
    "before = np.array([150, 160, 165, 145, 155])\n",
    "after = np.array([140, 155, 150, 130, 135])\n",
    "before - after"
   ]
  },
  {
   "cell_type": "code",
   "execution_count": 6,
   "id": "539a7761",
   "metadata": {},
   "outputs": [
    {
     "data": {
      "text/plain": [
       "WilcoxonResult(statistic=0.0, pvalue=0.0625)"
      ]
     },
     "execution_count": 6,
     "metadata": {},
     "output_type": "execute_result"
    }
   ],
   "source": [
    "stats.wilcoxon(before, after )"
   ]
  },
  {
   "cell_type": "markdown",
   "id": "1726b6ca",
   "metadata": {},
   "source": [
    "#### Вывод: смотря на результат p-value (0.0625) а это больше чем альфа (5%), можем сделать вывод в пользу нулевой гипотезы. Различий нет."
   ]
  },
  {
   "cell_type": "markdown",
   "id": "173e3c10",
   "metadata": {},
   "source": [
    "### Задача 4\n",
    "Даны 3 группы учеников плавания.   \n",
    "В 1 группе время на дистанцию 50 м составляют:  \n",
    "56, 60, 62, 55, 71, 67, 59, 58, 64, 67  \n",
    "Вторая группа : 57, 58, 69, 48, 72, 70, 68, 71, 50, 53  \n",
    "Третья группа: 57, 67, 49, 48, 47, 55, 66, 51, 54\n",
    "\n",
    "\n",
    "\n",
    "#### применяем критерий Крускала-Уоллиса"
   ]
  },
  {
   "cell_type": "code",
   "execution_count": 9,
   "id": "44d3e9d8",
   "metadata": {},
   "outputs": [
    {
     "data": {
      "text/plain": [
       "KruskalResult(statistic=5.465564058257224, pvalue=0.0650380998590494)"
      ]
     },
     "execution_count": 9,
     "metadata": {},
     "output_type": "execute_result"
    }
   ],
   "source": [
    "group_1 = np.array([56, 60, 62, 55, 71, 67, 59, 58, 64, 67])\n",
    "group_2 = np.array([57, 58, 69, 48, 72, 70, 68, 71, 50, 53])\n",
    "group_3 = np.array([57, 67, 49, 48, 47, 55, 66, 51, 54])\n",
    "\n",
    "stats.kruskal(group_1, group_2, group_3)\n"
   ]
  },
  {
   "cell_type": "markdown",
   "id": "744eec25",
   "metadata": {},
   "source": [
    "#### Вывод: смотря на результат p-value (0.065) а это больше чем альфа (5%), можем сделать вывод в пользу нулевой гипотезы. Различий нет."
   ]
  },
  {
   "cell_type": "code",
   "execution_count": null,
   "id": "a1b7a074",
   "metadata": {},
   "outputs": [],
   "source": []
  }
 ],
 "metadata": {
  "kernelspec": {
   "display_name": "Python 3 (ipykernel)",
   "language": "python",
   "name": "python3"
  },
  "language_info": {
   "codemirror_mode": {
    "name": "ipython",
    "version": 3
   },
   "file_extension": ".py",
   "mimetype": "text/x-python",
   "name": "python",
   "nbconvert_exporter": "python",
   "pygments_lexer": "ipython3",
   "version": "3.9.12"
  }
 },
 "nbformat": 4,
 "nbformat_minor": 5
}
